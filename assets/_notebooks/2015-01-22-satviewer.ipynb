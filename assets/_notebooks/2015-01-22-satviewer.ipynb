{
 "cells": [
  {
   "cell_type": "markdown",
   "metadata": {},
   "source": [
    "**Task:** read a GeoTiff satellite image, place it on a map, make the plot interactive\n",
    "\n",
    "**Tools:** Python 2.7.6, matplotlib 1.3.1, Basemap, osgeo.gdal"
   ]
  },
  {
   "cell_type": "markdown",
   "metadata": {},
   "source": [
    "## Preamble\n",
    "\n",
    "My current work involves analysing meteorological data for a particular polar low, observed over the Norwegian Sea during the [ACCACIA](http://arcticaccacia.wordpress.com/) field campaign. To get a bigger picture of synoptic circulation that prevailed before and during the polar low event, I decided to look at the satellite imagery."
   ]
  },
  {
   "cell_type": "code",
   "execution_count": 3,
   "metadata": {
    "collapsed": true
   },
   "outputs": [],
   "source": [
    "%matplotlib inline"
   ]
  },
  {
   "cell_type": "markdown",
   "metadata": {},
   "source": [
    "What I wanted to do is not just a slideshow, but an interface that correctly places a satellite image on a given map projection and then allows one to pinpoint a dot on the map and stores the coordinates of the dot in a text file.\n",
    "\n",
    "## Solution\n",
    "\n",
    "Although I'm not totally satisfied with how I wrote the interface and I never properly tested it, it works perfectly enough for my needs. The thing that I keep referring to as 'interface' is actually a callable Python object (class under an ingenious name **SatView**). It wraps all the functions to read an image, fiddle with its projection, and make a plot with a connection to user actions, namely to which mouse buttons user presses and where at that time the mouse is located relative to the plot coordinates.\n",
    "\n",
    "Once called with a given list of file names, this object creates a figure and sets up a map using the Matplotlib's `Basemap` class. This is pretty straightforward, and comments could be of help. For those who are not familiar with [OOP](http://www.tutorialspoint.com/python/python_classes_objects.htm), `self` constantly appearing in the code is the object instance."
   ]
  },
  {
   "cell_type": "code",
   "execution_count": 5,
   "metadata": {
    "collapsed": true
   },
   "outputs": [],
   "source": [
    "def __call__(self,lon1=-180.,lon2=180.,lat1=-90.,lat2=90.,proj='mill',tick_incr=[1,1]):\n",
    "    self.fig = plt.figure() # Create a figure\n",
    "    self.ax = self.fig.add_subplot(111) # Define axes\n",
    "\n",
    "    # Set up map with intermediate coastline resolution\n",
    "    self.bm = Basemap(projection=proj,llcrnrlon=lon1,llcrnrlat=lat1, \\\n",
    "                      urcrnrlon=lon2,urcrnrlat=lat2, \\\n",
    "                      resolution='i')\n",
    "    # Assign coordinate lines frequency\n",
    "    ticklon = np.array(tick_incr)[0]\n",
    "    try:\n",
    "        # Check if two numbers are given for x and y axes separately\n",
    "        ticklat = np.array(tick_incr)[1]\n",
    "    except IndexError:\n",
    "        # If not, assume that coordinate lines only for x axis are given\n",
    "        ticklat = ticklon\n",
    "\n",
    "    # Draw parallels and meridians in cyan color with given frequency\n",
    "    self.bm.drawmeridians(np.arange(round(lon1),lon2,ticklon),labels=[0,0,0,1],color='c')\n",
    "    self.bm.drawparallels(np.arange(round(lat1),lat2,ticklat),labels=[1,0,0,0],color='c')\n",
    "    # Draw coastlines in yellow\n",
    "    self.bm.drawcoastlines(color='y')\n",
    "    # Then other functions are called..."
   ]
  },
  {
   "cell_type": "markdown",
   "metadata": {},
   "source": [
    "The default projection is [Miller Cylindrical](http://matplotlib.org/basemap/users/mill.html), and coordinate lines are drawn with default frequency of 1 degree.\n",
    "\n",
    "Then a function `get_data()` (a part of the `SatView` class) is called to retrieve data. Note that `self.ind` appearing below is a counter corresponding to the file names in a list."
   ]
  },
  {
   "cell_type": "code",
   "execution_count": 6,
   "metadata": {
    "collapsed": true
   },
   "outputs": [],
   "source": [
    "def get_data(self):\n",
    "    print 'Reading: '+self.file_names[self.ind]\n",
    "    self.get_time_str() # Explained later\n",
    "    # Open a GeoTIFF image with 'ind' index in the file names list\n",
    "    gtif = gdal.Open(self.file_names[self.ind])\n",
    "\n",
    "    # Fetch the affine transformation coefficients\n",
    "    trans = gtif.GetGeoTransform()\n",
    "    # Fetch the data array\n",
    "    self.arr = gtif.ReadAsArray()\n",
    "\n",
    "    nx = gtif.RasterXSize*trans[1] # Image length in X-direction\n",
    "    ny = gtif.RasterYSize*trans[5] # Image length in Y-direction\n",
    "    x = np.arange(0, gtif.RasterXSize*trans[1],trans[1])\n",
    "    y = np.arange(0, gtif.RasterXSize*trans[5],trans[5])\n",
    "    xx, yy = np.meshgrid(x, y)\n",
    "    del gtif # Clear the used object\n",
    "\n",
    "    # Set up a map (but not show it)\n",
    "    m = Basemap(projection='cass',lon_0=10.,lat_0=74, width=nx, height=ny)\n",
    "    # Convert X and Y coordinates of every picture's pixel to longitude and latitude\n",
    "    self.lons, self.lats = m(xx,yy,inverse=True)"
   ]
  },
  {
   "cell_type": "markdown",
   "metadata": {},
   "source": [
    "The map settings at the end of the function can actually be different for a give satellite image, but all imagery that I read with this script has the same [Cassini-Soldner](http://matplotlib.org/basemap/users/cass.html) projection with latitude of origin equal to 74 and central meridian equal to 10. To get these parameters I used gdalinfo in command line, but it's possible to call `gdal.GetReference()` from the Python code (you have to parse the returned string first).\n",
    "\n",
    "Writing some code before I had many hurdles with transforming image coordinates to a 'normal' projection. Cassini-Soldner is not a very ubiquitously used projection, so I tried several solutions, such as [Cartopy](http://scitools.org.uk/cartopy/), and even calling a MATLAB code from Python to get those longitudes and latitudes. I tried `Basemap` as well, but I just couldn't make it work correctly until I noticed a very silly mistake in my calculations of x and y.\n",
    "\n",
    "*Note: Obviously, coordinate transformations can be made entirely using osgeo module. A good example can be found on [stackoverflow](http://stackoverflow.com/questions/2922532/obtain-latitude-and-longitude-from-a-geotiff-file).*\n",
    "\n",
    "As one could see, the described above function calls `self.get_time_str()`, which simply parses a file name and 'extracts' time string from it using tools from Python modules `os` and `datetime`."
   ]
  },
  {
   "cell_type": "code",
   "execution_count": 7,
   "metadata": {
    "collapsed": true
   },
   "outputs": [],
   "source": [
    "def get_time_str(self):\n",
    "    # Get file name from the path and parse it assuming '.' is a delimiter\n",
    "    cur_file_name = os.path.basename(self.file_names[self.ind]).split('.')\n",
    "    self.channel = cur_file_name[1]\n",
    "    # Assume that the file name base consists of date and time\n",
    "    cur_date_time = datetime.datetime.strptime(cur_file_name[0], '%Y%m%d%H%M')\n",
    "    self.time_string = cur_date_time.strftime('%H:%M, %d %B %Y')\n",
    "    self.time_raw = cur_file_name[0]"
   ]
  },
  {
   "cell_type": "markdown",
   "metadata": {},
   "source": [
    "Next step in `SatView` call is to plot the data (at last!). To show a image `pcolormesh` function is used. Note that in the last line the function creates a list that will be later necessary for storing marker objects."
   ]
  },
  {
   "cell_type": "code",
   "execution_count": 8,
   "metadata": {
    "collapsed": true
   },
   "outputs": [],
   "source": [
    "def plot_data(self):\n",
    "    # Convert longitudes and latitudes of the image to the coordinates of a set up projection\n",
    "    xx, yy = self.bm(self.lons,self.lats)\n",
    "    # Show the image in standard gray colour map.\n",
    "    self.pcolm = self.bm.pcolormesh(xx,yy,self.arr,cmap=plt.get_cmap('gray'),alpha=1.)\n",
    "    # Use time string as a title\n",
    "    plt.title(self.time_string)\n",
    "    # Prepare list for marker objects\n",
    "    self.markers = []"
   ]
  },
  {
   "cell_type": "markdown",
   "metadata": {},
   "source": [
    "Alright, we got the image. But now comes action! Let's assign an event to each of the mouse buttons:"
   ]
  },
  {
   "cell_type": "code",
   "execution_count": 9,
   "metadata": {
    "collapsed": true
   },
   "outputs": [],
   "source": [
    "def on_click(self, event):\n",
    "    if event.inaxes == self.ax: # Check if mouse is clicked inside the plot axes\n",
    "        if event.button == 1: # Left button\n",
    "            # Convert (x, y) to (lon, lat) using Basemap\n",
    "            ilon, ilat = self.bm(event.xdata, event.ydata,inverse=True)\n",
    "            # Append coordinates to the lists\n",
    "            self.lonlist.append(ilon)\n",
    "            self.latlist.append(ilat)\n",
    "            # Add a marker on the clicked spot\n",
    "            self.markers.append(self.bm.plot(event.xdata,event.ydata,marker='o',mfc='r',mec='r',ms=10))\n",
    "            plt.draw()\n",
    "            # Write coordinates to text file\n",
    "            self.write_xy()\n",
    "\n",
    "        if event.button == 3: # Right button\n",
    "            # Store data from the current frame\n",
    "            self.track.append(dict(ind=self.ind,time=self.time_raw,lon=self.lonlist,lat=self.latlist))\n",
    "            # Next frame\n",
    "            self.ind += 1\n",
    "            if self.ind < len(self.file_names):\n",
    "                self.pcolm.remove() # Increases performance\n",
    "                # Clear lon/lat lists\n",
    "                self.lonlist = []\n",
    "                self.latlist = []\n",
    "                # Clear the plot from the markers\n",
    "                if hasattr(self,'markers'):\n",
    "                    for ms in self.markers:\n",
    "                        self.ax.lines.remove(ms[0])\n",
    "\n",
    "                # Read data for the next frame and plot it\n",
    "                self.get_data() # get lons, lats, arr\n",
    "                self.plot_data()\n",
    "                plt.draw()\n",
    "            else:\n",
    "                print 'Reached the end of the file list'\n",
    "                plt.close()"
   ]
  },
  {
   "cell_type": "markdown",
   "metadata": {},
   "source": [
    "So in a nutshell, if the left button is pressed, the function `on_click` reads coordinates from the plot, converts them into longitude and latitude according to a given projection and stores them in a list and writes to the text file. At the same time, a round red marker is placed on the clicked spot. The corresponding `matplotlib` object is appended to a special list. That list is needed every time the function plots next image: i.e. just to remove markers from the previous frame.\n",
    "\n",
    "In the event of right mouse button click all the coordinates from the previous clicks (there can be more than one) are saved to a dictionary along with time reference. This bit is sort of an option for the future, and the same data is anyway being written to a text file. After saving the data, the counter adds up by 1 and the function checks whether there are any files left to read or the counter reached the end of the list. In case there are more to go, it removes all the markers from the current frame and clears the coordinate lists. Then it simply calls the functions to fetch and plot data. If the list of file names is read to an end, it closes the figure.\n",
    "\n",
    "One function left to comment is the one that writes data to text file. But it was probably the most quickest part of coding for me (just to lines, duh!). Here it is."
   ]
  },
  {
   "cell_type": "code",
   "execution_count": 10,
   "metadata": {
    "collapsed": true
   },
   "outputs": [],
   "source": [
    "def write_xy(self):\n",
    "    outf = open(self.out_file_name,'a')\n",
    "    outf.write(str(self.ind)+\\\n",
    "    '\\t'+self.time_raw+'\\t'+'{0:.3f}\\t{1:.3f}\\n'.format(self.lonlist[-1],self.latlist[-1]))\n",
    "    outf.close()"
   ]
  },
  {
   "cell_type": "markdown",
   "metadata": {},
   "source": [
    "And the output file contains of the following table (showing it with the help of `pandas` module)."
   ]
  },
  {
   "cell_type": "code",
   "execution_count": 11,
   "metadata": {},
   "outputs": [
    {
     "name": "stdout",
     "output_type": "stream",
     "text": [
      "   1  201303201142  9.093  76.719\n",
      "0  1  201303201244  8.506  76.525\n",
      "1  1  201303201323  7.698  76.400\n",
      "2  1  201303201915  8.425  76.831\n",
      "3  3  201303240104  7.370  75.174\n",
      "4  3  201303240245  7.508  74.715\n"
     ]
    }
   ],
   "source": [
    "import pandas as pd\n",
    "df = pd.read_table('../_data/pmc_loc_time_ch4_20Mar-02Apr.txt')\n",
    "print df.head()"
   ]
  },
  {
   "cell_type": "markdown",
   "metadata": {},
   "source": [
    "And to connect the mouse click handling function `on_click` to the figure backend, we need to write the following line of code. I think it is quite self-explanatory.\n",
    "\n",
    "`self.fig.canvas.mpl_connect('button_press_event',self.on_click)`\n",
    "\n",
    "One last thing. I also used Cursor widget from matplotlib library to make cursor lines over the plot. Looks pretty neat to me.\n",
    "\n",
    "`self.cursor = Cursor(plt.gca(), useblit=True, color='red')`\n",
    "\n",
    "And to sum everything up, I'm putting the whole script that consists of the class definition and some necessary preparation."
   ]
  },
  {
   "cell_type": "code",
   "execution_count": 12,
   "metadata": {
    "collapsed": true
   },
   "outputs": [],
   "source": [
    "import datetime\n",
    "import glob\n",
    "import matplotlib.pyplot as plt\n",
    "from matplotlib.widgets import Cursor\n",
    "from mpl_toolkits.basemap import Basemap\n",
    "import numpy as np\n",
    "import os\n",
    "from osgeo import gdal"
   ]
  },
  {
   "cell_type": "code",
   "execution_count": 13,
   "metadata": {
    "collapsed": true
   },
   "outputs": [],
   "source": [
    "datadir_sat = './satellite/GeoTIFF/'\n",
    "file_name_sat = [] \n",
    "file_name_sat += glob.glob(datadir_sat + os.sep + '*.tif')\n",
    "file_name_sat.sort() # Sort list of file names\n",
    "\n",
    "# Boundaries of the map\n",
    "lon_min = -10.\n",
    "lon_max = 30.\n",
    "lat_min = 65.\n",
    "lat_max = 80."
   ]
  },
  {
   "cell_type": "code",
   "execution_count": 14,
   "metadata": {
    "collapsed": true
   },
   "outputs": [],
   "source": [
    "class SatView(object):\n",
    "    def __init__(self,file_names,out_file_name=None):\n",
    "        self.file_names = file_names\n",
    "        if out_file_name == None:\n",
    "            self.out_file_name = 'out_' + \\\n",
    "            os.path.basename(self.file_names[0]).split('.')[0] + '-' + \\\n",
    "            os.path.basename(self.file_names[-1]).split('.')[0]+'.txt'\n",
    "        else:\n",
    "            self.out_file_name = out_file_name\n",
    "\n",
    "        self.ind = 0 # Index of the list of file names\n",
    "        self.track = []\n",
    "        self.lonlist = []\n",
    "        self.latlist = []\n",
    "\n",
    "    def __call__(self,lon1=-180.,lon2=180.,lat1=-90.,lat2=90.,proj='mill',tick_incr=[1,1]):\n",
    "        self.fig = plt.figure() # Create a figure\n",
    "        self.ax = self.fig.add_subplot(111) # Define axes\n",
    "\n",
    "        # Set up map with intermediate coastline resolution\n",
    "        self.bm = Basemap(projection=proj,llcrnrlon=lon1,llcrnrlat=lat1, \\\n",
    "                          urcrnrlon=lon2,urcrnrlat=lat2, \\\n",
    "                          resolution='i')\n",
    "        # Assign coordinate lines frequency\n",
    "        ticklon = np.array(tick_incr)[0]\n",
    "        try:\n",
    "            # Check if two numbers are given for x and y axes separately\n",
    "            ticklat = np.array(tick_incr)[1]\n",
    "        except IndexError:\n",
    "            # If not, assume that coordinate lines only for x axis are given\n",
    "            ticklat = ticklon\n",
    "\n",
    "        # Draw parallels and meridians in cyan color with given frequency\n",
    "        self.bm.drawmeridians(np.arange(round(lon1),lon2,ticklon),labels=[0,0,0,1],color='c')\n",
    "        self.bm.drawparallels(np.arange(round(lat1),lat2,ticklat),labels=[1,0,0,0],color='c')\n",
    "        # Draw coastlines in yellow\n",
    "        self.bm.drawcoastlines(color='y')\n",
    "\n",
    "        self.get_data() # get lons, lats, arr\n",
    "        self.plot_data()\n",
    "        self.fig.canvas.mpl_connect('button_press_event',self.on_click)\n",
    "        self.cursor = Cursor(plt.gca(), useblit=True, color='red')\n",
    "\n",
    "        plt.show()\n",
    "\n",
    "    def on_click(self, event):\n",
    "        if event.inaxes == self.ax: # Check if mouse is clicked inside the plot axes\n",
    "            if event.button == 1: # Left button\n",
    "                # Convert (x, y) to (lon, lat) using Basemap\n",
    "                ilon, ilat = self.bm(event.xdata, event.ydata,inverse=True)\n",
    "                # Append coordinates to the lists\n",
    "                self.lonlist.append(ilon)\n",
    "                self.latlist.append(ilat)\n",
    "                # Add a marker on the clicked spot\n",
    "                self.markers.append(self.bm.plot(event.xdata,event.ydata,marker='o',mfc='r',mec='r',ms=10))\n",
    "                plt.draw()\n",
    "                # Write coordinates to text file\n",
    "                self.write_xy()\n",
    "        \n",
    "            if event.button == 3: # Right button\n",
    "                # Store data from the current frame\n",
    "                self.track.append(dict(ind=self.ind,time=self.time_raw,lon=self.lonlist,lat=self.latlist))\n",
    "                # Next frame\n",
    "                self.ind += 1\n",
    "                if self.ind < len(self.file_names):\n",
    "                    self.pcolm.remove() # Improves performance\n",
    "                    # Clear lon/lat lists\n",
    "                    self.lonlist = []\n",
    "                    self.latlist = []\n",
    "                    # Clear the plot from the markers\n",
    "                    if hasattr(self,'markers'):\n",
    "                        for ms in self.markers:\n",
    "                            self.ax.lines.remove(ms[0])\n",
    "\n",
    "                    # Read data for the next frame and plot it\n",
    "                    self.get_data() # get lons, lats, arr\n",
    "                    self.plot_data()\n",
    "                    plt.draw()\n",
    "                else:\n",
    "                    print 'Reached the end of the file list'\n",
    "                    plt.close()\n",
    "\n",
    "    def write_xy(self):\n",
    "        outf = open(self.out_file_name,'a')\n",
    "        outf.write(str(self.ind)+\\\n",
    "        '\\t'+self.time_raw+'\\t'+'{0:.3f}\\t{1:.3f}\\n'.format(self.lonlist[-1],self.latlist[-1]))\n",
    "        outf.close()\n",
    "\n",
    "    def plot_data(self):\n",
    "        # Convert longitudes and latitudes of the image to the coordinates of a set up projection\n",
    "        xx, yy = self.bm(self.lons,self.lats)\n",
    "        # Show the image in standard gray colour map.\n",
    "        self.pcolm = self.bm.pcolormesh(xx,yy,self.arr,cmap=plt.get_cmap('gray'),alpha=1.)\n",
    "        # Use time string as a title\n",
    "        plt.title(self.time_string)\n",
    "        # Prepare list for marker objects\n",
    "        self.markers = []\n",
    "\n",
    "    def get_data(self):\n",
    "        print 'Reading: '+self.file_names[self.ind]\n",
    "        self.get_time_str() # Explained later\n",
    "        # Open a GeoTIFF image with 'ind' index in the file names list\n",
    "        gtif = gdal.Open(self.file_names[self.ind])\n",
    "        \n",
    "        # Fetch the affine transformation coefficients\n",
    "        trans = gtif.GetGeoTransform()\n",
    "        # Fetch the data array\n",
    "        self.arr = gtif.ReadAsArray()\n",
    "\n",
    "        nx = gtif.RasterXSize*trans[1] # Image length in X-direction\n",
    "        ny = gtif.RasterYSize*trans[5] # Image length in Y-direction\n",
    "        x = np.arange(0, gtif.RasterXSize*trans[1],trans[1])\n",
    "        y = np.arange(0, gtif.RasterXSize*trans[5],trans[5])\n",
    "        xx, yy = np.meshgrid(x, y)\n",
    "        del gtif # Clear the used object\n",
    "\n",
    "        # Set up a map (but not show it)\n",
    "        m = Basemap(projection='cass',lon_0=10.,lat_0=74, width=nx, height=ny)\n",
    "        # Convert X and Y coordinates of every picture's pixel to longitude and latitude\n",
    "        self.lons, self.lats = m(xx,yy,inverse=True)\n",
    "\n",
    "    def get_time_str(self):\n",
    "        # Get file name from the path and parse it assuming '.' is a delimiter\n",
    "        cur_file_name = os.path.basename(self.file_names[self.ind]).split('.')\n",
    "        self.channel = cur_file_name[1]\n",
    "        # Assume that the file name base consists of date and time\n",
    "        cur_date_time = datetime.datetime.strptime(cur_file_name[0], '%Y%m%d%H%M')\n",
    "        self.time_string = cur_date_time.strftime('%H:%M, %d %B %Y')\n",
    "        self.time_raw = cur_file_name[0]"
   ]
  },
  {
   "cell_type": "code",
   "execution_count": null,
   "metadata": {},
   "outputs": [],
   "source": [
    "#\n",
    "# And now the actual call of the object\n",
    "#\n",
    "SatView(file_name_sat)(lon_min,lon_max,lat_min,lat_max)"
   ]
  },
  {
   "cell_type": "markdown",
   "metadata": {},
   "source": [
    "The imagery is in visible/thermal spectrum (channels 2/4), made by AVHRR on board of MetOp-B satellite. Data are courtesy of [Dundee Satellite Receiving Station](http://www.sat.dundee.ac.uk/abin/browseleaf?s=avhrr)."
   ]
  }
 ],
 "metadata": {
  "kernelspec": {
   "display_name": "Python [conda env:phd]",
   "language": "python",
   "name": "conda-env-phd-py"
  },
  "language_info": {
   "codemirror_mode": {
    "name": "ipython",
    "version": 3
   },
   "file_extension": ".py",
   "mimetype": "text/x-python",
   "name": "python",
   "nbconvert_exporter": "python",
   "pygments_lexer": "ipython3",
   "version": "3.6.2"
  }
 },
 "nbformat": 4,
 "nbformat_minor": 1
}
