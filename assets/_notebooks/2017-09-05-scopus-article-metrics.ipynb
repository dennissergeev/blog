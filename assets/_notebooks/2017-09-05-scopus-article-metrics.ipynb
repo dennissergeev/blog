{
 "cells": [
  {
   "cell_type": "markdown",
   "metadata": {},
   "source": [
    "I was summarising the literature review for one of the chapters of my PhD thesis in a form of a table, when I thought about sorting it by the number of times each reference has been cited. These metadata are not static and so are usually not stored in reference managing software (e.g. [Mendeley](https://www.mendeley.com)) or BibTeX files."
   ]
  },
  {
   "cell_type": "markdown",
   "metadata": {},
   "source": [
    "I certainly could have looked up each of the publications (especially that there are only 16 of them so far). But I'm lazy! So after some googling I found that [Scopus](https://www.elsevier.com/solutions/scopus?) - Elsevier-owned largest abstract and citation database of peer-reviewed literature - has a Python API. The [package](https://github.com/scopus-api/scopus) offers everything I need and is active on GitHub, so I decided to stick with it, though there are certainly other citation databases, for instance Google Scholar (perhaps I will explore its API in another post). The downside of using Scopus API is that it's not free. Luckily, University of East Anglia provides an access to it."
   ]
  },
  {
   "cell_type": "markdown",
   "metadata": {},
   "source": [
    "The journey starts by pip-installing the `scopus` package and then obtaining a key from Elsevier Dev centre (as explained in the [README](https://github.com/scopus-api/scopus#get-a-scopus-api-key)). In addition, I installed `bibtexparser` package needed for loading my references from a BibTeX file."
   ]
  },
  {
   "cell_type": "markdown",
   "metadata": {},
   "source": [
    "Once everything is installed, let's import the packages."
   ]
  },
  {
   "cell_type": "code",
   "execution_count": 1,
   "metadata": {},
   "outputs": [
    {
     "name": "stdout",
     "output_type": "stream",
     "text": [
      "CPython 3.6.2\n",
      "IPython 6.1.0\n",
      "\n",
      "bibtexparser 0.6.2\n",
      "scopus 0.4.3\n"
     ]
    }
   ],
   "source": [
    "import bibtexparser\n",
    "import re\n",
    "from scopus.scopus_api import ScopusAbstract\n",
    "from scopus.scopus_search import ScopusSearch\n",
    "\n",
    "# For a fancy progress bar\n",
    "from tqdm import tqdm_notebook as tqdm\n",
    "\n",
    "# Print package info\n",
    "%load_ext watermark\n",
    "%watermark -v -p bibtexparser,scopus"
   ]
  },
  {
   "cell_type": "markdown",
   "metadata": {},
   "source": [
    "## The list of references"
   ]
  },
  {
   "cell_type": "markdown",
   "metadata": {},
   "source": [
    "Now we load the references."
   ]
  },
  {
   "cell_type": "code",
   "execution_count": 2,
   "metadata": {
    "collapsed": true
   },
   "outputs": [],
   "source": [
    "with open('../_data/polarlow_climatologies.bib', 'r') as bibtex_file:\n",
    "    bibs = bibtexparser.load(bibtex_file)"
   ]
  },
  {
   "cell_type": "markdown",
   "metadata": {},
   "source": [
    "The resulting `bibs` variable is `BibDatabase` containing all 16 entries as plain dictionaries.\n",
    "\n",
    "For example, the first entry is"
   ]
  },
  {
   "cell_type": "code",
   "execution_count": 3,
   "metadata": {
    "scrolled": true
   },
   "outputs": [
    {
     "name": "stdout",
     "output_type": "stream",
     "text": [
      "{'author': 'Blechschmidt, A.-M. and Bakan, S. and Gra{\\\\ss}l, H.', 'doi': '10.1029/2008JD010865', 'journal': 'J. Geophys. Res.', 'keyword': 'PMC,climatology', 'link': 'http://doi.wiley.com/10.1029/2008JD010865', 'number': 'D6', 'pages': 'D06115', 'title': 'Large-scale atmospheric circulation patterns during polar low events over the Nordic seas', 'volume': '114', 'year': '2009', 'ENTRYTYPE': 'article', 'ID': 'BlechschmidtEtAl2009'}\n"
     ]
    }
   ],
   "source": [
    "print(bibs.entries[0])"
   ]
  },
  {
   "cell_type": "markdown",
   "metadata": {},
   "source": [
    "What we are interested in now, is the DOI of the article, by which we will do the search in Scopus. Our BibTeX file contains DOIs for each of the references. If it didn't we would probably search by titles using try/except, e.g.:"
   ]
  },
  {
   "cell_type": "code",
   "execution_count": 4,
   "metadata": {
    "collapsed": true
   },
   "outputs": [],
   "source": [
    "try:\n",
    "    _query = 'DOI({})'.format(bibs.entries[0]['doi'])\n",
    "except KeyError:\n",
    "    # if there is no DOI\n",
    "    _query = 'TITLE ({})'.format(re.sub(r'([^\\s\\w\\-]|_)+', '', bibs.entries[0]['title']))"
   ]
  },
  {
   "cell_type": "markdown",
   "metadata": {},
   "source": [
    "## Scopus mining"
   ]
  },
  {
   "cell_type": "markdown",
   "metadata": {},
   "source": [
    "The first instance that we need is `scopus.scopus_search.ScopusSearch`, which takes a query and returns a list of EIDs - internal Scopus identifiers. To construct a query using DOI is pretty straightforward, as I found [here](https://dev.elsevier.com/tecdoc_cited_by_in_scopus.html)."
   ]
  },
  {
   "cell_type": "code",
   "execution_count": 5,
   "metadata": {
    "collapsed": true
   },
   "outputs": [],
   "source": [
    "QUERY_FMT = 'DOI({})'  # query format"
   ]
  },
  {
   "cell_type": "markdown",
   "metadata": {},
   "source": [
    "`ScopusSearch` returns a result containing the list of article identificators (which is of length 1 when using DOI). Then the EID can be passed to `scopus.scopus_api.ScopusAbstract` to retrieve the full metadata."
   ]
  },
  {
   "cell_type": "markdown",
   "metadata": {},
   "source": [
    "For example, using the just created variable `_query`, we can send a request to Scopus:"
   ]
  },
  {
   "cell_type": "code",
   "execution_count": 6,
   "metadata": {
    "collapsed": true
   },
   "outputs": [],
   "source": [
    "sc_search = ScopusSearch(_query)"
   ]
  },
  {
   "cell_type": "markdown",
   "metadata": {},
   "source": [
    "There is only one identificator in the list:"
   ]
  },
  {
   "cell_type": "code",
   "execution_count": 7,
   "metadata": {},
   "outputs": [
    {
     "name": "stdout",
     "output_type": "stream",
     "text": [
      "['2-s2.0-66449109996']\n"
     ]
    }
   ],
   "source": [
    "print(sc_search.EIDS)"
   ]
  },
  {
   "cell_type": "code",
   "execution_count": 8,
   "metadata": {
    "collapsed": true
   },
   "outputs": [],
   "source": [
    "ab = ScopusAbstract(sc_search.EIDS[0])"
   ]
  },
  {
   "cell_type": "code",
   "execution_count": 9,
   "metadata": {},
   "outputs": [
    {
     "name": "stdout",
     "output_type": "stream",
     "text": [
      "[[https://www.scopus.com/inward/record.uri?partnerID=HzOxMe3b&scp=66449109996&origin=inward][2-s2.0-66449109996]]  A.-M. Blechschmidt, S. Bakan and H. Graßl, Large-scale atmospheric circulation patterns during polar low events over the Nordic seas, Journal of Geophysical Research Atmospheres, 114(6), (no pages found) (2009). http://dx.doi.org/10.10.29/2008JD010865, https://www.scopus.com/inward/record.uri?partnerID=HzOxMe3b&scp=66449109996&origin=inward, cited 22 times (Scopus).\n",
      "  Affiliations:\n",
      "   id:60028564 None\n",
      "   id:60028229 None\n"
     ]
    }
   ],
   "source": [
    "print(ab)"
   ]
  },
  {
   "cell_type": "markdown",
   "metadata": {},
   "source": [
    "As we can see, the metadata contain such information as the number of citations and authors' affiliations. I will use the former here and probably will write another post based on the latter."
   ]
  },
  {
   "cell_type": "markdown",
   "metadata": {},
   "source": [
    "Thus, iterating over the entries of the `BibDatabase` bibs, we can retrieve the number of citations for each of them and stored it in the same dictionary."
   ]
  },
  {
   "cell_type": "code",
   "execution_count": 10,
   "metadata": {},
   "outputs": [
    {
     "data": {
      "application/vnd.jupyter.widget-view+json": {
       "model_id": "c078d9ec2113461dbbb14d5959a6c312",
       "version_major": 2,
       "version_minor": 0
      },
      "text/plain": [
       "A Jupyter Widget"
      ]
     },
     "metadata": {},
     "output_type": "display_data"
    },
    {
     "name": "stdout",
     "output_type": "stream",
     "text": [
      "\n"
     ]
    }
   ],
   "source": [
    "for entry in tqdm(bibs.entries):\n",
    "    query = QUERY_FMT.format(entry['doi'])\n",
    "        \n",
    "    sc_search = ScopusSearch(query)\n",
    "    try:\n",
    "        ab = ScopusAbstract(sc_search.EIDS[0])\n",
    "        entry['citedby_count'] = ab.citedby_count\n",
    "    except IndexError:\n",
    "        # if no EID found\n",
    "        entry['citedby_count'] = None"
   ]
  },
  {
   "cell_type": "markdown",
   "metadata": {},
   "source": [
    "## Playing with the results"
   ]
  },
  {
   "cell_type": "markdown",
   "metadata": {},
   "source": [
    "Now each of the entries contains an additional field \"citedby_count\":"
   ]
  },
  {
   "cell_type": "code",
   "execution_count": 11,
   "metadata": {
    "scrolled": true
   },
   "outputs": [
    {
     "data": {
      "text/plain": [
       "{'ENTRYTYPE': 'article',\n",
       " 'ID': 'ZappaEtAl2014',\n",
       " 'author': 'Zappa, Giuseppe and Shaffrey, Len and Hodges, Kevin',\n",
       " 'citedby_count': 22,\n",
       " 'doi': '10.1175/MWR-D-14-00064.1',\n",
       " 'journal': 'Mon. Weather Rev.',\n",
       " 'keyword': 'PMC,climatology,reanalysis',\n",
       " 'link': 'http://journals.ametsoc.org/doi/abs/10.1175/MWR-D-14-00064.1',\n",
       " 'month': 'aug',\n",
       " 'number': '8',\n",
       " 'pages': '2596--2608',\n",
       " 'title': 'Can Polar Lows be Objectively Identified and Tracked in the ECMWF Operational Analysis and the ERA-Interim Reanalysis?',\n",
       " 'volume': '142',\n",
       " 'year': '2014'}"
      ]
     },
     "execution_count": 11,
     "metadata": {},
     "output_type": "execute_result"
    }
   ],
   "source": [
    "entry"
   ]
  },
  {
   "cell_type": "markdown",
   "metadata": {},
   "source": [
    "Let's look at the results. I am too lazy, so we just pass the citation counts into a `pandas.DataFrame` and use it in the plotting section."
   ]
  },
  {
   "cell_type": "code",
   "execution_count": 12,
   "metadata": {
    "collapsed": true
   },
   "outputs": [],
   "source": [
    "import pandas as pd"
   ]
  },
  {
   "cell_type": "code",
   "execution_count": 13,
   "metadata": {
    "collapsed": true
   },
   "outputs": [],
   "source": [
    "df = pd.DataFrame(data={'citation_count': [entry['citedby_count'] for entry in bibs.entries],\n",
    "                        'year': [entry['year'] for entry in bibs.entries]},\n",
    "                  index=[entry['ID'] for entry in bibs.entries])"
   ]
  },
  {
   "cell_type": "code",
   "execution_count": 14,
   "metadata": {
    "collapsed": true
   },
   "outputs": [],
   "source": [
    "%matplotlib inline"
   ]
  },
  {
   "cell_type": "code",
   "execution_count": 15,
   "metadata": {
    "scrolled": false
   },
   "outputs": [
    {
     "data": {
      "image/png": "[encoded data removed]",
      "text/plain": [
       "<matplotlib.figure.Figure at 0x7fc79d7dacc0>"
      ]
     },
     "metadata": {},
     "output_type": "display_data"
    }
   ],
   "source": [
    "ax = df[['citation_count']].plot.barh(legend=None, figsize=(15, 7))\n",
    "ax.invert_yaxis()\n",
    "\n",
    "for spine in ax.spines.values():\n",
    "    spine.set_linewidth(0)\n",
    "ax.xaxis.set_ticks([])\n",
    "\n",
    "for p in ax.patches:\n",
    "    ax.annotate('{:d}'.format(round(p.get_width())),\n",
    "                (p.get_width() + 0.5, p.get_y() + 0.4),\n",
    "                size=16)\n",
    "    if p.get_width() == df['citation_count'].values.max():\n",
    "        p.set_color('C1')\n",
    "\n",
    "ax.set_title('Citation count', fontsize=20)\n",
    "ax.tick_params(labelsize=16)"
   ]
  },
  {
   "cell_type": "markdown",
   "metadata": {},
   "source": [
    "Apparently, the winner among these is the publication by [Condron et al. (2006)](http://journals.ametsoc.org/doi/abs/10.1175/MWR3136.1) with 53 citations, at least according to Scopus records."
   ]
  },
  {
   "cell_type": "markdown",
   "metadata": {},
   "source": [
    "## Export to LaTeX"
   ]
  },
  {
   "cell_type": "markdown",
   "metadata": {},
   "source": [
    "Finally, I wanted to include the citation information into my LaTeX table. Fortunately, `pandas` library allows me to do just that, and sort by year of the publication."
   ]
  },
  {
   "cell_type": "code",
   "execution_count": 16,
   "metadata": {},
   "outputs": [
    {
     "name": "stdout",
     "output_type": "stream",
     "text": [
      "\\begin{tabular}{lrl}\n",
      "\\toprule\n",
      "{} &  citation\\_count &  year \\\\\n",
      "\\midrule\n",
      "HaroldEtAl1999a      &              32 &  1999 \\\\\n",
      "HaroldEtAl1999b      &              20 &  1999 \\\\\n",
      "CondronEtAl2006      &              53 &  2006 \\\\\n",
      "BracegirdleGray2008  &              52 &  2008 \\\\\n",
      "ZahnVanStorch2008    &              51 &  2008 \\\\\n",
      "BlechschmidtEtAl2009 &              22 &  2009 \\\\\n",
      "Kolstad2011          &              24 &  2011 \\\\\n",
      "MalletEtAl2013       &               9 &  2013 \\\\\n",
      "LaffineurEtAl2014    &              15 &  2014 \\\\\n",
      "ZappaEtAl2014        &              22 &  2014 \\\\\n",
      "RojoEtAl2015         &               8 &  2015 \\\\\n",
      "TerpstraEtAl2016     &               5 &  2016 \\\\\n",
      "WatanabeEtAl2016     &               2 &  2016 \\\\\n",
      "MalletEtAl2017       &               0 &  2017 \\\\\n",
      "SmirnovaGolubkin2017 &               0 &  2017 \\\\\n",
      "WatanabeEtAl2017     &               0 &  2017 \\\\\n",
      "\\bottomrule\n",
      "\\end{tabular}\n",
      "\n"
     ]
    }
   ],
   "source": [
    "print(df.sort_values('year').to_latex())"
   ]
  },
  {
   "cell_type": "markdown",
   "metadata": {},
   "source": [
    "Some rights reserved. This work permits non-commercial use, distribution, and reproduction in any medium, provided the original author and source are credited."
   ]
  }
 ],
 "metadata": {
  "kernelspec": {
   "display_name": "Python [conda env:datasci]",
   "language": "python",
   "name": "conda-env-datasci-py"
  },
  "language_info": {
   "codemirror_mode": {
    "name": "ipython",
    "version": 3
   },
   "file_extension": ".py",
   "mimetype": "text/x-python",
   "name": "python",
   "nbconvert_exporter": "python",
   "pygments_lexer": "ipython3",
   "version": "3.6.2"
  }
 },
 "nbformat": 4,
 "nbformat_minor": 2
}
